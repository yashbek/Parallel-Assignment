{
  "nbformat": 4,
  "nbformat_minor": 0,
  "metadata": {
    "colab": {
      "provenance": []
    },
    "kernelspec": {
      "name": "python3",
      "display_name": "Python 3"
    },
    "language_info": {
      "name": "python"
    }
  },
  "cells": [
    {
      "cell_type": "code",
      "source": [
        "!mpirun --oversubscribe --allow-run-as-root sequ\n",
        "!mpirun --oversubscribe -np 10 --allow-run-as-root static\n",
        "!mpirun --oversubscribe -np 10 --allow-run-as-root dynamic"
      ],
      "metadata": {
        "colab": {
          "base_uri": "https://localhost:8080/"
        },
        "id": "tov7JoecH6TV",
        "outputId": "a281ed4a-d3d5-4ee7-ae5d-79a027adcc7b"
      },
      "execution_count": 111,
      "outputs": [
        {
          "output_type": "stream",
          "name": "stdout",
          "text": [
            "The execution time of the sequential trial is: 76.628000 ms\n",
            "The execution time of the static trial is: 30.031000 ms\n",
            "The execution time of the dynamic trial is: 10.513000 ms\n"
          ]
        }
      ]
    },
    {
      "cell_type": "markdown",
      "source": [
        "# Seq (Sample)"
      ],
      "metadata": {
        "id": "inlZVRsBJOs9"
      }
    },
    {
      "cell_type": "code",
      "source": [
        "%%sh\n",
        "cat > seq.c << EOF\n",
        "#include <stdio.h>\n",
        "#include <time.h>\n",
        "\n",
        "#define WIDTH 640\n",
        "#define HEIGHT 480\n",
        "#define MAX_ITER 255\n",
        "\n",
        "struct complex{\n",
        "  double real;\n",
        "  double imag;\n",
        "};\n",
        "\n",
        "\n",
        "int cal_pixel(struct complex c) {\n",
        "\n",
        "\n",
        "            double z_real = 0;\n",
        "            double z_imag = 0;\n",
        "\n",
        "            double z_real2, z_imag2, lengthsq;\n",
        "\n",
        "            int iter = 0;\n",
        "            do {\n",
        "                z_real2 = z_real * z_real;\n",
        "                z_imag2 = z_imag * z_imag;\n",
        "\n",
        "                z_imag = 2 * z_real * z_imag + c.imag;\n",
        "                z_real = z_real2 - z_imag2 + c.real;\n",
        "                lengthsq =  z_real2 + z_imag2;\n",
        "                iter++;\n",
        "            }\n",
        "            while ((iter < MAX_ITER) && (lengthsq < 4.0));\n",
        "\n",
        "            return iter;\n",
        "\n",
        "}\n",
        "\n",
        "void save_pgm(const char *filename, int image[HEIGHT][WIDTH]) {\n",
        "    FILE* pgmimg;\n",
        "    int temp;\n",
        "    pgmimg = fopen(filename, \"wb\");\n",
        "    fprintf(pgmimg, \"P2\\n\"); // Writing Magic Number to the File\n",
        "    fprintf(pgmimg, \"%d %d\\n\", WIDTH, HEIGHT);  // Writing Width and Height\n",
        "    fprintf(pgmimg, \"255\\n\");  // Writing the maximum gray value\n",
        "    int count = 0;\n",
        "\n",
        "    for (int i = 0; i < HEIGHT; i++) {\n",
        "        for (int j = 0; j < WIDTH; j++) {\n",
        "            temp = image[i][j];\n",
        "            fprintf(pgmimg, \"%d \", temp); // Writing the gray values in the 2D array to the file\n",
        "        }\n",
        "        fprintf(pgmimg, \"\\n\");\n",
        "    }\n",
        "    fclose(pgmimg);\n",
        "}\n",
        "\n",
        "\n",
        "int main() {\n",
        "    int image[HEIGHT][WIDTH];\n",
        "    double total_time;\n",
        "    struct complex c;\n",
        "\n",
        "      clock_t start_time = clock(); // Start measuring time\n",
        "      int i, j;\n",
        "      for (i = 0; i < HEIGHT; i++) {\n",
        "          for (j = 0; j < WIDTH; j++) {\n",
        "              c.real = (j - WIDTH / 2.0) * 4.0 / WIDTH;\n",
        "              c.imag = (i - HEIGHT / 2.0) * 4.0 / HEIGHT;\n",
        "              image[i][j] = cal_pixel(c);\n",
        "          }\n",
        "      }\n",
        "\n",
        "      clock_t end_time = clock(); // End measuring time\n",
        "\n",
        "      total_time = ((double)(end_time - start_time)) / CLOCKS_PER_SEC;\n",
        "\n",
        "    save_pgm(\"seq_mandelbrot.pgm\", image);\n",
        "    printf(\"The execution time of the sequential trial is: %f ms\\n\", total_time*1000);\n",
        "\n",
        "\n",
        "\n",
        "    return 0;\n",
        "}\n",
        "\n",
        "EOF"
      ],
      "metadata": {
        "id": "NH5PzpwwJUYY"
      },
      "execution_count": 95,
      "outputs": []
    },
    {
      "cell_type": "code",
      "source": [
        "!mpicc -o sequ seq.c"
      ],
      "metadata": {
        "id": "9h-eJUxyKZuo"
      },
      "execution_count": 96,
      "outputs": []
    },
    {
      "cell_type": "code",
      "source": [
        "!mpirun --oversubscribe --allow-run-as-root sequ"
      ],
      "metadata": {
        "colab": {
          "base_uri": "https://localhost:8080/"
        },
        "id": "Em59rk9rNsex",
        "outputId": "8801ffa3-81cd-4ce9-e33e-a73f793bee00"
      },
      "execution_count": 97,
      "outputs": [
        {
          "output_type": "stream",
          "name": "stdout",
          "text": [
            "The execution time of the sequential trial is: 74.206000 ms\n"
          ]
        }
      ]
    },
    {
      "cell_type": "markdown",
      "source": [
        "# Static\n"
      ],
      "metadata": {
        "id": "E3dpCa9oj1o4"
      }
    },
    {
      "cell_type": "code",
      "source": [
        "%%sh\n",
        "cat > static.c << EOF\n",
        "#include <mpi.h>\n",
        "#include <stdio.h>\n",
        "#include <time.h>\n",
        "\n",
        "#define WIDTH 640\n",
        "#define HEIGHT 480\n",
        "#define MAX_ITER 255\n",
        "\n",
        "struct complex{\n",
        "  double real;\n",
        "  double imag;\n",
        "};\n",
        "\n",
        "\n",
        "int cal_pixel(struct complex c) {\n",
        "            double z_real = 0;\n",
        "            double z_imag = 0;\n",
        "\n",
        "            double z_real2, z_imag2, lengthsq;\n",
        "\n",
        "            int iter = 0;\n",
        "            do {\n",
        "                z_real2 = z_real * z_real;\n",
        "                z_imag2 = z_imag * z_imag;\n",
        "\n",
        "                z_imag = 2 * z_real * z_imag + c.imag;\n",
        "                z_real = z_real2 - z_imag2 + c.real;\n",
        "                lengthsq =  z_real2 + z_imag2;\n",
        "                iter++;\n",
        "            }\n",
        "            while ((iter < MAX_ITER) && (lengthsq < 4.0));\n",
        "            return iter;\n",
        "}\n",
        "\n",
        "void save_pgm(const char *filename, int image[HEIGHT][WIDTH]) {\n",
        "    FILE* pgmimg;\n",
        "    int temp;\n",
        "    pgmimg = fopen(filename, \"wb\");\n",
        "    fprintf(pgmimg, \"P2\\n\"); // Writing Magic Number to the File\n",
        "    fprintf(pgmimg, \"%d %d\\n\", WIDTH, HEIGHT);  // Writing Width and Height\n",
        "    fprintf(pgmimg, \"255\\n\");  // Writing the maximum gray value\n",
        "    int count = 0;\n",
        "\n",
        "    for (int i = 0; i < HEIGHT; i++) {\n",
        "        for (int j = 0; j < WIDTH; j++) {\n",
        "            temp = image[i][j];\n",
        "            fprintf(pgmimg, \"%d \", temp); // Writing the gray values in the 2D array to the file\n",
        "        }\n",
        "        fprintf(pgmimg, \"\\n\");\n",
        "    }\n",
        "    fclose(pgmimg);\n",
        "}\n",
        "\n",
        "int main() {\n",
        "    int image[HEIGHT][WIDTH] = {0};\n",
        "    double AVG = 0;\n",
        "    int N = 1;\n",
        "    int res[HEIGHT][WIDTH] = {0};\n",
        "    double total_time;\n",
        "    struct complex c;\n",
        "    clock_t start_time;\n",
        "\n",
        "    MPI_Init(NULL, NULL);\n",
        "\n",
        "    int p;\n",
        "    MPI_Comm_size(MPI_COMM_WORLD, &p);\n",
        "\n",
        "    int rank;\n",
        "    MPI_Comm_rank(MPI_COMM_WORLD, &rank);\n",
        "\n",
        "    MPI_Bcast(&image, 1, MPI_INT, 0, MPI_COMM_WORLD);\n",
        "\n",
        "    int PHeight = HEIGHT/p;\n",
        "\n",
        "    if(rank == 0){\n",
        "      start_time = clock();\n",
        "    }\n",
        "      for (int i = 0; i < PHeight; i++) {\n",
        "        for (int j = 0; j < WIDTH; j++) {\n",
        "          c.real = (j - (WIDTH / 2.0)) * 4.0 / WIDTH;\n",
        "          c.imag = ((rank * PHeight) + i - (HEIGHT / 2.0)) * 4.0 / HEIGHT;\n",
        "          image[rank * PHeight + i][j] = cal_pixel(c);\n",
        "        }\n",
        "      }\n",
        "    MPI_Reduce(image, res, HEIGHT * WIDTH, MPI_INT, MPI_BOR, 0, MPI_COMM_WORLD);\n",
        "    if(rank == 0){\n",
        "      clock_t end_time = clock(); // End measuring time\n",
        "      total_time = ((double)(end_time - start_time)) / CLOCKS_PER_SEC;\n",
        "      save_pgm(\"stat_mandelbrot.pgm\", res);\n",
        "      printf(\"The execution time of the static trial is: %f ms\\n\", total_time/N*1000);\n",
        "    }\n",
        "    MPI_Finalize();\n",
        "    return 0;\n",
        "}\n",
        "EOF"
      ],
      "metadata": {
        "id": "33kPgWqsj8dc"
      },
      "execution_count": null,
      "outputs": []
    },
    {
      "cell_type": "code",
      "source": [
        "!mpicc -o static static.c"
      ],
      "metadata": {
        "id": "QSFfaFvUIl9U"
      },
      "execution_count": 78,
      "outputs": []
    },
    {
      "cell_type": "code",
      "source": [
        "!mpirun --oversubscribe -np 10 --allow-run-as-root static"
      ],
      "metadata": {
        "colab": {
          "base_uri": "https://localhost:8080/"
        },
        "id": "vTYqIl00Nx1A",
        "outputId": "81a6b3d9-7093-4064-c5fa-73cd898cbbdc"
      },
      "execution_count": 79,
      "outputs": [
        {
          "output_type": "stream",
          "name": "stdout",
          "text": [
            "The execution time of the static trial is: 30.410000 ms\n"
          ]
        }
      ]
    },
    {
      "cell_type": "markdown",
      "source": [
        "# Dynamic"
      ],
      "metadata": {
        "id": "_iQhhNHh9nXl"
      }
    },
    {
      "cell_type": "code",
      "source": [
        "%%sh\n",
        "cat > dynamic.c << EOF\n",
        "#include <mpi.h>\n",
        "#include <stdio.h>\n",
        "#include <time.h>\n",
        "\n",
        "#define WIDTH 640\n",
        "#define HEIGHT 480\n",
        "#define MAX_ITER 255\n",
        "\n",
        "#define MPI_PERFORM_TAG 1\n",
        "#define MPI_DONE_TAG 0\n",
        "#define MPI_TERMINATE_TAG 2\n",
        "\n",
        "struct complex{\n",
        "  double real;\n",
        "  double imag;\n",
        "};\n",
        "\n",
        "\n",
        "int cal_pixel(struct complex c) {\n",
        "            double z_real = 0;\n",
        "            double z_imag = 0;\n",
        "\n",
        "            double z_real2, z_imag2, lengthsq;\n",
        "\n",
        "            int iter = 0;\n",
        "            do {\n",
        "                z_real2 = z_real * z_real;\n",
        "                z_imag2 = z_imag * z_imag;\n",
        "\n",
        "                z_imag = 2 * z_real * z_imag + c.imag;\n",
        "                z_real = z_real2 - z_imag2 + c.real;\n",
        "                lengthsq =  z_real2 + z_imag2;\n",
        "                iter++;\n",
        "            }\n",
        "            while ((iter < MAX_ITER) && (lengthsq < 4.0));\n",
        "            return iter;\n",
        "}\n",
        "\n",
        "void save_pgm(const char *filename, int image[HEIGHT][WIDTH]) {\n",
        "    FILE* pgmimg;\n",
        "    int temp;\n",
        "    pgmimg = fopen(filename, \"wb\");\n",
        "    fprintf(pgmimg, \"P2\\n\"); // Writing Magic Number to the File\n",
        "    fprintf(pgmimg, \"%d %d\\n\", WIDTH, HEIGHT);  // Writing Width and Height\n",
        "    fprintf(pgmimg, \"255\\n\");  // Writing the maximum gray value\n",
        "    int count = 0;\n",
        "\n",
        "    for (int i = 0; i < HEIGHT; i++) {\n",
        "        for (int j = 0; j < WIDTH; j++) {\n",
        "            temp = image[i][j];\n",
        "            fprintf(pgmimg, \"%d \", temp); // Writing the gray values in the 2D array to the file\n",
        "        }\n",
        "        fprintf(pgmimg, \"\\n\");\n",
        "    }\n",
        "    fclose(pgmimg);\n",
        "}\n",
        "\n",
        "int main() {\n",
        "    int image[HEIGHT][WIDTH] = {0};\n",
        "    double total_time;\n",
        "    struct complex c;\n",
        "    clock_t start_time;\n",
        "\n",
        "    MPI_Init(NULL, NULL);\n",
        "\n",
        "    int p;\n",
        "    MPI_Comm_size(MPI_COMM_WORLD, &p);\n",
        "\n",
        "    int rank;\n",
        "    MPI_Comm_rank(MPI_COMM_WORLD, &rank);\n",
        "\n",
        "    if(rank == 0){\n",
        "      start_time = clock();\n",
        "      int i;\n",
        "      int master_row = 0;\n",
        "      int worker_message[WIDTH];\n",
        "\n",
        "      for (i = 0; i < p; i++){\n",
        "        MPI_Send(&master_row, 1, MPI_INT, i, MPI_PERFORM_TAG, MPI_COMM_WORLD);\n",
        "        master_row++;\n",
        "      }\n",
        "\n",
        "      do{\n",
        "        MPI_Status status;\n",
        "        MPI_Recv(worker_message, WIDTH + 1, MPI_INT, MPI_ANY_SOURCE, MPI_DONE_TAG, MPI_COMM_WORLD, &status);\n",
        "        i--;\n",
        "        for (int k = 0; k < WIDTH; k++){\n",
        "          image[worker_message[WIDTH]][k] = worker_message[k];\n",
        "        }\n",
        "\n",
        "        if(master_row < HEIGHT){\n",
        "          MPI_Send(&master_row, 1, MPI_INT, status.MPI_SOURCE, MPI_PERFORM_TAG, MPI_COMM_WORLD);\n",
        "          master_row++;\n",
        "          i++;\n",
        "        }\n",
        "        else\n",
        "        {\n",
        "          MPI_Send(&master_row, 1, MPI_INT, status.MPI_SOURCE, MPI_TERMINATE_TAG, MPI_COMM_WORLD);\n",
        "        }\n",
        "      }while(i > 1);\n",
        "\n",
        "      clock_t end_time = clock(); // End measuring time\n",
        "      total_time = ((double)(end_time - start_time)) / CLOCKS_PER_SEC;\n",
        "      save_pgm(\"dyn_mandelbrot.pgm\", image);\n",
        "      printf(\"The execution time of the dynamic trial is: %f ms\\n\", total_time*1000);\n",
        "    }\n",
        "    else\n",
        "    {\n",
        "      int my_slice;\n",
        "      MPI_Status my_status;\n",
        "      int my_row[WIDTH+1];\n",
        "\n",
        "      while(1){\n",
        "        MPI_Recv(&my_slice, 1, MPI_INT, 0, MPI_ANY_TAG, MPI_COMM_WORLD, &my_status);\n",
        "        if (my_status.MPI_TAG == MPI_PERFORM_TAG){\n",
        "          my_row[WIDTH] = my_slice;\n",
        "          for (int j = 0; j < WIDTH; j++) {\n",
        "            c.real = (j - (WIDTH / 2.0)) * 4.0 / WIDTH;\n",
        "            c.imag = (my_slice - (HEIGHT / 2.0)) * 4.0 / HEIGHT;\n",
        "            my_row[j] = cal_pixel(c);\n",
        "          }\n",
        "        }\n",
        "        else\n",
        "        {\n",
        "          break;\n",
        "        }\n",
        "        MPI_Send(my_row, WIDTH + 1, MPI_INT, 0, MPI_DONE_TAG, MPI_COMM_WORLD);\n",
        "      }\n",
        "    }\n",
        "\n",
        "    MPI_Finalize();\n",
        "    return 0;\n",
        "}\n",
        "EOF"
      ],
      "metadata": {
        "id": "LSQklOzj9uwz"
      },
      "execution_count": 108,
      "outputs": []
    },
    {
      "cell_type": "code",
      "source": [
        "!mpicc -o dynamic dynamic.c"
      ],
      "metadata": {
        "id": "SaBq5th4MQls"
      },
      "execution_count": 109,
      "outputs": []
    },
    {
      "cell_type": "code",
      "source": [
        "!mpirun --oversubscribe -np 10 --allow-run-as-root dynamic"
      ],
      "metadata": {
        "colab": {
          "base_uri": "https://localhost:8080/"
        },
        "id": "xA_aIh63NjFp",
        "outputId": "bd926ced-918f-4001-acb0-103dc9a6188f"
      },
      "execution_count": 110,
      "outputs": [
        {
          "output_type": "stream",
          "name": "stdout",
          "text": [
            "The execution time of the dynamic trial is: 7.774000 ms\n"
          ]
        }
      ]
    }
  ]
}